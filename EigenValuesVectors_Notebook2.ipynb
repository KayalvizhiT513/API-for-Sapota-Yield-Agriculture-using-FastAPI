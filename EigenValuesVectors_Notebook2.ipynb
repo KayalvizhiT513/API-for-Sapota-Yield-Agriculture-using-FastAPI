{
  "nbformat": 4,
  "nbformat_minor": 0,
  "metadata": {
    "colab": {
      "provenance": [],
      "authorship_tag": "ABX9TyM61U4bjLTpjTTd5mQcRhVg",
      "include_colab_link": true
    },
    "kernelspec": {
      "name": "python3",
      "display_name": "Python 3"
    },
    "language_info": {
      "name": "python"
    }
  },
  "cells": [
    {
      "cell_type": "markdown",
      "metadata": {
        "id": "view-in-github",
        "colab_type": "text"
      },
      "source": [
        "<a href=\"https://colab.research.google.com/github/KayalvizhiT513/API-for-Sapota-Yield-Agriculture-using-FastAPI/blob/main/EigenValuesVectors_Notebook2.ipynb\" target=\"_parent\"><img src=\"https://colab.research.google.com/assets/colab-badge.svg\" alt=\"Open In Colab\"/></a>"
      ]
    },
    {
      "cell_type": "code",
      "source": [
        "import numpy as np\n",
        "import sympy as sp"
      ],
      "metadata": {
        "id": "HWZuMSRRdXAY"
      },
      "execution_count": 1,
      "outputs": []
    },
    {
      "cell_type": "code",
      "source": [
        "# Define the matrix A\n",
        "A = np.array([[5, 2, 0],\n",
        "      [2, 5, 0],\n",
        "      [-3, 4, 6]])\n",
        "\n",
        "# Calculate eigenvalues and eigenvectors\n",
        "eigenvalues, eigenvectors = np.linalg.eig(A)\n",
        "\n",
        "# Print eigenvalues and eigenvectors\n",
        "print(\"Eigenvalues:\", eigenvalues)\n",
        "print(\"Eigenvectors:\")\n",
        "print(eigenvectors)\n"
      ],
      "metadata": {
        "id": "PgqKljJZaTAc",
        "colab": {
          "base_uri": "https://localhost:8080/"
        },
        "outputId": "6f248fc3-5aea-4543-acb9-110040162019"
      },
      "execution_count": 2,
      "outputs": [
        {
          "output_type": "stream",
          "name": "stdout",
          "text": [
            "Eigenvalues: [6. 7. 3.]\n",
            "Eigenvectors:\n",
            "[[ 0.          0.57735027  0.36650833]\n",
            " [ 0.          0.57735027 -0.36650833]\n",
            " [ 1.          0.57735027  0.85518611]]\n"
          ]
        }
      ]
    },
    {
      "cell_type": "code",
      "source": [
        "# Concatenate eigenvectors into a matrix\n",
        "eig_matrix = np.column_stack(eigenvectors)\n",
        "\n",
        "# Convert the matrix to sympy format\n",
        "eig_matrix_sympy = sp.Matrix(eig_matrix)\n",
        "\n",
        "# Compute the reduced row echelon form (RREF)\n",
        "rref = eig_matrix_sympy.rref()\n",
        "print(\"RREF:\")\n",
        "print(rref[0])\n",
        "\n",
        "# Find the rank of the matrix\n",
        "rank = eig_matrix_sympy.rank()\n",
        "print(\"Rank of the RREF:\", rank)\n",
        "\n",
        "# Check if eigenvectors are linearly independent\n",
        "if rank == min(A.shape):\n",
        "    print(\"The eigenvectors corresponding to distinct eigenvalues are linearly independent.\")\n",
        "else:\n",
        "    print(\"The eigenvectors corresponding to distinct eigenvalues are linearly dependent.\")\n"
      ],
      "metadata": {
        "colab": {
          "base_uri": "https://localhost:8080/"
        },
        "id": "zxO-SnG_ci2o",
        "outputId": "dd818de4-3fac-466c-ba37-310ac94c9bba"
      },
      "execution_count": 4,
      "outputs": [
        {
          "output_type": "stream",
          "name": "stdout",
          "text": [
            "RREF:\n",
            "Matrix([[1, 0, 0], [0, 1, 0], [0, 0, 1]])\n",
            "Rank of the RREF: 3\n",
            "The eigenvectors corresponding to distinct eigenvalues are linearly independent.\n"
          ]
        }
      ]
    },
    {
      "cell_type": "code",
      "source": [],
      "metadata": {
        "id": "6Lv8NkvDdwaM"
      },
      "execution_count": 3,
      "outputs": []
    }
  ]
}